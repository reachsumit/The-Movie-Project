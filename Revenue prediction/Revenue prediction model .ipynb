{
 "cells": [
  {
   "cell_type": "markdown",
   "metadata": {},
   "source": [
    "---\n",
    "title: \"Revenue Prediction model\"\n",
    "\n",
    "author: \"Garima Sood\"\n",
    "\n",
    "date: \"March 12, 2018\"\n",
    "\n",
    "output: html_document\n"
   ]
  },
  {
   "cell_type": "code",
   "execution_count": 2,
   "metadata": {},
   "outputs": [
    {
     "name": "stderr",
     "output_type": "stream",
     "text": [
      "Installing package into 'C:/Users/garim/OneDrive/Documents/R/win-library/3.4'\n",
      "(as 'lib' is unspecified)\n"
     ]
    },
    {
     "name": "stdout",
     "output_type": "stream",
     "text": [
      "package 'gridExtra' successfully unpacked and MD5 sums checked\n"
     ]
    },
    {
     "name": "stderr",
     "output_type": "stream",
     "text": [
      "Warning message:\n",
      "\"cannot remove prior installation of package 'gridExtra'\""
     ]
    },
    {
     "name": "stdout",
     "output_type": "stream",
     "text": [
      "\n",
      "The downloaded binary packages are in\n",
      "\tC:\\Users\\garim\\AppData\\Local\\Temp\\RtmpABEmSb\\downloaded_packages\n"
     ]
    },
    {
     "name": "stderr",
     "output_type": "stream",
     "text": [
      "Installing package into 'C:/Users/garim/OneDrive/Documents/R/win-library/3.4'\n",
      "(as 'lib' is unspecified)\n"
     ]
    },
    {
     "name": "stdout",
     "output_type": "stream",
     "text": [
      "package 'dplyr' successfully unpacked and MD5 sums checked\n"
     ]
    },
    {
     "name": "stderr",
     "output_type": "stream",
     "text": [
      "Warning message:\n",
      "\"cannot remove prior installation of package 'dplyr'\""
     ]
    },
    {
     "name": "stdout",
     "output_type": "stream",
     "text": [
      "\n",
      "The downloaded binary packages are in\n",
      "\tC:\\Users\\garim\\AppData\\Local\\Temp\\RtmpABEmSb\\downloaded_packages\n"
     ]
    },
    {
     "name": "stderr",
     "output_type": "stream",
     "text": [
      "Installing package into 'C:/Users/garim/OneDrive/Documents/R/win-library/3.4'\n",
      "(as 'lib' is unspecified)\n"
     ]
    },
    {
     "name": "stdout",
     "output_type": "stream",
     "text": [
      "package 'lubridate' successfully unpacked and MD5 sums checked\n"
     ]
    },
    {
     "name": "stderr",
     "output_type": "stream",
     "text": [
      "Warning message:\n",
      "\"cannot remove prior installation of package 'lubridate'\""
     ]
    },
    {
     "name": "stdout",
     "output_type": "stream",
     "text": [
      "\n",
      "The downloaded binary packages are in\n",
      "\tC:\\Users\\garim\\AppData\\Local\\Temp\\RtmpABEmSb\\downloaded_packages\n"
     ]
    },
    {
     "name": "stderr",
     "output_type": "stream",
     "text": [
      "Installing package into 'C:/Users/garim/OneDrive/Documents/R/win-library/3.4'\n",
      "(as 'lib' is unspecified)\n"
     ]
    },
    {
     "name": "stdout",
     "output_type": "stream",
     "text": [
      "package 'Metrics' successfully unpacked and MD5 sums checked\n"
     ]
    },
    {
     "name": "stderr",
     "output_type": "stream",
     "text": [
      "Warning message:\n",
      "\"cannot remove prior installation of package 'Metrics'\""
     ]
    },
    {
     "name": "stdout",
     "output_type": "stream",
     "text": [
      "\n",
      "The downloaded binary packages are in\n",
      "\tC:\\Users\\garim\\AppData\\Local\\Temp\\RtmpABEmSb\\downloaded_packages\n"
     ]
    },
    {
     "name": "stderr",
     "output_type": "stream",
     "text": [
      "Installing package into 'C:/Users/garim/OneDrive/Documents/R/win-library/3.4'\n",
      "(as 'lib' is unspecified)\n"
     ]
    },
    {
     "name": "stdout",
     "output_type": "stream",
     "text": [
      "package 'rpart' successfully unpacked and MD5 sums checked\n"
     ]
    },
    {
     "name": "stderr",
     "output_type": "stream",
     "text": [
      "Warning message:\n",
      "\"cannot remove prior installation of package 'rpart'\""
     ]
    },
    {
     "name": "stdout",
     "output_type": "stream",
     "text": [
      "\n",
      "The downloaded binary packages are in\n",
      "\tC:\\Users\\garim\\AppData\\Local\\Temp\\RtmpABEmSb\\downloaded_packages\n"
     ]
    },
    {
     "name": "stderr",
     "output_type": "stream",
     "text": [
      "Installing package into 'C:/Users/garim/OneDrive/Documents/R/win-library/3.4'\n",
      "(as 'lib' is unspecified)\n"
     ]
    },
    {
     "name": "stdout",
     "output_type": "stream",
     "text": [
      "package 'rpart.plot' successfully unpacked and MD5 sums checked\n"
     ]
    },
    {
     "name": "stderr",
     "output_type": "stream",
     "text": [
      "Warning message:\n",
      "\"cannot remove prior installation of package 'rpart.plot'\""
     ]
    },
    {
     "name": "stdout",
     "output_type": "stream",
     "text": [
      "\n",
      "The downloaded binary packages are in\n",
      "\tC:\\Users\\garim\\AppData\\Local\\Temp\\RtmpABEmSb\\downloaded_packages\n"
     ]
    },
    {
     "name": "stderr",
     "output_type": "stream",
     "text": [
      "Installing package into 'C:/Users/garim/OneDrive/Documents/R/win-library/3.4'\n",
      "(as 'lib' is unspecified)\n"
     ]
    },
    {
     "name": "stdout",
     "output_type": "stream",
     "text": [
      "package 'randomForest' successfully unpacked and MD5 sums checked\n"
     ]
    },
    {
     "name": "stderr",
     "output_type": "stream",
     "text": [
      "Warning message:\n",
      "\"cannot remove prior installation of package 'randomForest'\""
     ]
    },
    {
     "name": "stdout",
     "output_type": "stream",
     "text": [
      "\n",
      "The downloaded binary packages are in\n",
      "\tC:\\Users\\garim\\AppData\\Local\\Temp\\RtmpABEmSb\\downloaded_packages\n"
     ]
    },
    {
     "name": "stderr",
     "output_type": "stream",
     "text": [
      "Warning message:\n",
      "\"package 'gridExtra' was built under R version 3.4.4\"\n",
      "Attaching package: 'dplyr'\n",
      "\n",
      "The following object is masked from 'package:gridExtra':\n",
      "\n",
      "    combine\n",
      "\n",
      "The following objects are masked from 'package:stats':\n",
      "\n",
      "    filter, lag\n",
      "\n",
      "The following objects are masked from 'package:base':\n",
      "\n",
      "    intersect, setdiff, setequal, union\n",
      "\n",
      "Warning message:\n",
      "\"package 'lubridate' was built under R version 3.4.4\"\n",
      "Attaching package: 'lubridate'\n",
      "\n",
      "The following object is masked from 'package:base':\n",
      "\n",
      "    date\n",
      "\n",
      "Warning message:\n",
      "\"package 'Metrics' was built under R version 3.4.4\"Warning message:\n",
      "\"package 'rpart' was built under R version 3.4.4\"Warning message:\n",
      "\"package 'rpart.plot' was built under R version 3.4.4\"Warning message:\n",
      "\"package 'randomForest' was built under R version 3.4.4\"randomForest 4.6-14\n",
      "Type rfNews() to see new features/changes/bug fixes.\n",
      "\n",
      "Attaching package: 'randomForest'\n",
      "\n",
      "The following object is masked from 'package:dplyr':\n",
      "\n",
      "    combine\n",
      "\n",
      "The following object is masked from 'package:gridExtra':\n",
      "\n",
      "    combine\n",
      "\n"
     ]
    }
   ],
   "source": [
    "install.packages(\"gridExtra\")\n",
    "install.packages(\"dplyr\")\n",
    "install.packages(\"lubridate\")\n",
    "install.packages(\"Metrics\")\n",
    "install.packages(\"rpart\")\n",
    "install.packages(\"rpart.plot\")\n",
    "install.packages(\"randomForest\")\n",
    "library(gridExtra)\n",
    "library(dplyr)\n",
    "library(lubridate)\n",
    "library(Metrics)\n",
    "library(rpart)\n",
    "library(rpart.plot)\n",
    "library(randomForest)"
   ]
  },
  {
   "cell_type": "code",
   "execution_count": 5,
   "metadata": {},
   "outputs": [
    {
     "data": {
      "text/plain": [
       "    movie_id      actor_1_gender  actor_2_gender  actor_3_gender \n",
       " Min.   :     2   Min.   :0.000   Min.   :0.000   Min.   :0.000  \n",
       " 1st Qu.: 26412   1st Qu.:1.000   1st Qu.:0.000   1st Qu.:0.000  \n",
       " Median : 60013   Median :2.000   Median :1.000   Median :1.000  \n",
       " Mean   :108317   Mean   :1.331   Mean   :1.163   Mean   :1.153  \n",
       " 3rd Qu.:157171   3rd Qu.:2.000   3rd Qu.:2.000   3rd Qu.:2.000  \n",
       " Max.   :469172   Max.   :2.000   Max.   :2.000   Max.   :2.000  \n",
       "                  NA's   :2420    NA's   :3752    NA's   :4664   \n",
       " actor_4_gender  actor_5_gender             actor_1_name  \n",
       " Min.   :0.000   Min.   :0.000                    : 2420  \n",
       " 1st Qu.:0.000   1st Qu.:0.000   John Wayne       :   94  \n",
       " Median :1.000   Median :1.000   Jackie Chan      :   73  \n",
       " Mean   :1.111   Mean   :1.102   Nicolas Cage     :   60  \n",
       " 3rd Qu.:2.000   3rd Qu.:2.000   Robert De Niro   :   56  \n",
       " Max.   :2.000   Max.   :2.000   GÃ©rard Depardieu:   52  \n",
       " NA's   :5799    NA's   :8279    (Other)          :42783  \n",
       "        actor_2_name             actor_3_name           actor_4_name  \n",
       "              : 3752                   : 4664                 : 5799  \n",
       " Barbara Hale :   36   Donald Pleasence:   25   Donald Crisp  :   17  \n",
       " Oliver Hardy :   29   George Sanders  :   23   Harry Andrews :   17  \n",
       " Huntz Hall   :   28   Susan Sarandon  :   23   Ray Liotta    :   16  \n",
       " Lou Costello :   27   William R. Moses:   21   Walter Brennan:   16  \n",
       " Michael Caine:   26   Ned Beatty      :   20   Alfred Molina :   15  \n",
       " (Other)      :41640   (Other)         :40762   (Other)       :39658  \n",
       "        actor_5_name   director_gender          director_name   producer_gender\n",
       "              : 8279   Min.   :0.000                   :  887   Min.   :0.000  \n",
       " Keenan Wynn  :   20   1st Qu.:0.000   John Ford       :   66   1st Qu.:0.000  \n",
       " Gene Lockhart:   19   Median :2.000   Michael Curtiz  :   65   Median :2.000  \n",
       " Steve Buscemi:   17   Mean   :1.198   Werner Herzog   :   54   Mean   :1.142  \n",
       " Alan Hale    :   16   3rd Qu.:2.000   Alfred Hitchcock:   53   3rd Qu.:2.000  \n",
       " John Hurt    :   16   Max.   :2.000   Georges MÃ©liÃ¨s:   51   Max.   :2.000  \n",
       " (Other)      :37171   NA's   :887     (Other)         :44362   NA's   :23504  \n",
       "          producer_name   casting_gender           casting_name  \n",
       "                 :23504   Min.   :0.00                   :37370  \n",
       " Walt Disney     :   72   1st Qu.:0.00    Avy Kaufman    :  178  \n",
       " Darryl F. Zanuck:   71   Median :1.00    Deborah Aquila :  125  \n",
       " Hal B. Wallis   :   67   Mean   :0.83    Lynn Stalmaster:  122  \n",
       " Brian Grazer    :   58   3rd Qu.:1.00    Mary Vernieu   :  105  \n",
       " Roger Corman    :   52   Max.   :2.00    Nancy Nayor    :   92  \n",
       " (Other)         :21714   NA's   :37370   (Other)        : 7546  \n",
       "                    belongs_to_collection        genre_1          genre_2     \n",
       "                               :41038     Drama      :11984           :17024  \n",
       " The Bowery Boys               :   29     Comedy     : 8829   Drama   : 6321  \n",
       " TotÃ² Collection              :   27     Action     : 4496   Comedy  : 3269  \n",
       " James Bond Collection         :   26     Documentary: 3419   Romance : 2864  \n",
       " ZatÃ´ichi: The Blind Swordsman:   26     Horror     : 2621   Thriller: 2527  \n",
       " The Carry On Collection       :   25                : 2448   Action  : 1546  \n",
       " (Other)                       : 4367     (Other)    :11741   (Other) :11987  \n",
       "            genre_3                 genre_4     \n",
       "                :31534                  :41131  \n",
       " Thriller       : 2237   Thriller       :  923  \n",
       " Romance        : 2046   Romance        :  500  \n",
       " Drama          : 1680   Science Fiction:  394  \n",
       " Comedy         :  912   Crime          :  301  \n",
       " Science Fiction:  877   Mystery        :  286  \n",
       " (Other)        : 6252   (Other)        : 2003  \n",
       "                             production_company_1\n",
       "                                       :11900    \n",
       " Paramount Pictures                    : 1000    \n",
       " Metro-Goldwyn-Mayer (MGM)             :  853    \n",
       " Twentieth Century Fox Film Corporation:  781    \n",
       " Warner Bros.                          :  757    \n",
       " Universal Pictures                    :  754    \n",
       " (Other)                               :29493    \n",
       "                production_company_2                production_company_3\n",
       "                          :28507                              :36476    \n",
       " Warner Bros.             :  270     Warner Bros.             :  130    \n",
       " Metro-Goldwyn-Mayer (MGM):  151     Canal+                   :  109    \n",
       " Canal+                   :  124     Metro-Goldwyn-Mayer (MGM):   44    \n",
       " Touchstone Pictures      :   75     Relativity Media         :   42    \n",
       " Universal Pictures       :   71     TF1 Films Production     :   29    \n",
       " (Other)                  :16340     (Other)                  : 8708    \n",
       "               production_country_1               production_country_2\n",
       " United States of America:18449                             :38497    \n",
       "                         : 6295     United States of America: 2132    \n",
       " United Kingdom          : 3073     France                  :  918    \n",
       " France                  : 2714     United Kingdom          :  660    \n",
       " Canada                  : 1499     Germany                 :  531    \n",
       " Japan                   : 1498     Italy                   :  485    \n",
       " (Other)                 :12010     (Other)                 : 2315    \n",
       "               production_country_3 spoken_language_1 spoken_language_2\n",
       "                         :43381     English  :26873            :37765  \n",
       " United States of America:  411              : 4060   English  : 1595  \n",
       " France                  :  247     FranÃ§ais: 2436   FranÃ§ais: 1479  \n",
       " Germany                 :  232     Italiano : 1411   Deutsch  :  920  \n",
       " United Kingdom          :  231     æ¥æ¬èª: 1391   EspaÃ±ol :  782  \n",
       " Italy                   :  154     Deutsch  : 1304   Italiano :  617  \n",
       " (Other)                 :  882     (Other)  : 8063   (Other)  : 2380  \n",
       " spoken_language_3   adult           budget         \n",
       "          :43089   False:45529   Min.   :        0  \n",
       " Deutsch  :  328   True :    9   1st Qu.:        0  \n",
       " EspaÃ±ol :  308                 Median :        0  \n",
       " FranÃ§ais:  234                 Mean   :  4212154  \n",
       " English  :  232                 3rd Qu.:        0  \n",
       " Italiano :  225                 Max.   :380000000  \n",
       " (Other)  : 1122                 NA's   :1534       \n",
       "                                      homepage          imdb_id     \n",
       "                                          :37746            :   17  \n",
       " http://www.georgecarlin.com              :   12   tt1180333:    9  \n",
       " http://www.wernerherzog.com/films-by.html:    7   tt0022537:    4  \n",
       " http://breakblade.jp/                    :    6   tt0022879:    4  \n",
       " http://movies.warnerbros.com/pk3/        :    4   tt0046468:    4  \n",
       " http://phantasm.com                      :    4   tt0062229:    4  \n",
       " (Other)                                  : 7759   (Other)  :45496  \n",
       " original_language             original_title \n",
       " en     :32316     Blackout           :   12  \n",
       " fr     : 2443     Alice in Wonderland:    8  \n",
       " it     : 1529     Hamlet             :    8  \n",
       " ja     : 1356     King Lear          :    8  \n",
       " de     : 1083     A Christmas Carol  :    7  \n",
       " es     :  993     Cinderella         :    7  \n",
       " (Other): 5818     (Other)            :45488  \n",
       "                                                                                                                                                                                                                                                                                                                                                                                                                                                                                                                                                                                           overview    \n",
       "                                                                                                                                                                                                                                                                                                                                                                                                                                                                                                                                                                                               :  954  \n",
       " No overview found.                                                                                                                                                                                                                                                                                                                                                                                                                                                                                                                                                                            :  133  \n",
       " Recovering from a nail gun shot to the head and 13 months of coma, doctor Pekka Valinta starts to unravel the mystery of his past, still suffering from total amnesia.                                                                                                                                                                                                                                                                                                                                                                                                                        :    9  \n",
       " No Overview                                                                                                                                                                                                                                                                                                                                                                                                                                                                                                                                                                                   :    7  \n",
       "                                                                                                                                                                                                                                                                                                                                                                                                                                                                                                                                                                                               :    5  \n",
       " King Lear, old and tired, divides his kingdom among his daughters, giving great importance to their protestations of love for him. When Cordelia, youngest and most honest, refuses to idly flatter the old man in return for favor, he banishes her and turns for support to his remaining daughters. But Goneril and Regan have no love for him and instead plot to take all his power from him. In a parallel, Lear's loyal courtier Gloucester favors his illegitimate son Edmund after being told lies about his faithful son Edgar. Madness and tragedy befall both ill-starred fathers.:    5  \n",
       " (Other)                                                                                                                                                                                                                                                                                                                                                                                                                                                                                                                                                                                       :44425  \n",
       "   popularity                                 poster_path        release_date  \n",
       " Min.   :  0.0000                                   :  386   2008-01-01:  136  \n",
       " 1st Qu.:  0.3863   /8VSZ9coCzxOCW2wE2Qene1H1fKO.jpg:    9   2009-01-01:  121  \n",
       " Median :  1.1283   /5D7UBSEgdyONE6Lql6xS7s6OLcW.jpg:    5   2007-01-01:  120  \n",
       " Mean   :  2.9219   /2kslZXOaW0HmnGuVPCnQlCdXFR9.jpg:    4   2005-01-01:  111  \n",
       " 3rd Qu.:  3.6815   /4J6Ai4C5YRgfRUTlirrJ7QsmJKU.jpg:    4   2006-01-01:  101  \n",
       " Max.   :547.4883   /5GasjPRAy5rlEyDOH7MeOyxyQGX.jpg:    4   2002-01-01:   96  \n",
       " NA's   :3          (Other)                         :45126   (Other)   :44853  \n",
       "    revenue             runtime                    status     \n",
       " Min.   :0.000e+00   Min.   :   0.00                  :   84  \n",
       " 1st Qu.:0.000e+00   1st Qu.:  85.00   Canceled       :    2  \n",
       " Median :0.000e+00   Median :  95.00   In Production  :   20  \n",
       " Mean   :1.152e+07   Mean   :  94.13   Planned        :   15  \n",
       " 3rd Qu.:0.000e+00   3rd Qu.: 107.00   Post Production:   98  \n",
       " Max.   :2.788e+09   Max.   :1256.00   Released       :45087  \n",
       " NA's   :1537        NA's   :260       Rumored        :  232  \n",
       "                                                                                 tagline     \n",
       "                                                                                     :25099  \n",
       " Which one is the first to return - memory or the murderer?                          :    9  \n",
       " Based on a true story.                                                              :    7  \n",
       " -                                                                                   :    4  \n",
       " A love, a hope, a wall.                                                             :    4  \n",
       " Actually produced during the Great Newfoundland Seal Hunt and You see the REAL thing:    4  \n",
       " (Other)                                                                             :20411  \n",
       "                  title         video        vote_average      vote_count     \n",
       " Blackout            :   13        :    3   Min.   : 0.000   Min.   :    0.0  \n",
       " Cinderella          :   11   False:45442   1st Qu.: 5.000   1st Qu.:    3.0  \n",
       " Alice in Wonderland :    9   True :   93   Median : 6.000   Median :   10.0  \n",
       " Hamlet              :    9                 Mean   : 5.618   Mean   :  109.8  \n",
       " Beauty and the Beast:    8                 3rd Qu.: 6.800   3rd Qu.:   34.0  \n",
       " King Lear           :    8                 Max.   :10.000   Max.   :14075.0  \n",
       " (Other)             :45480                 NA's   :3        NA's   :3        "
      ]
     },
     "metadata": {},
     "output_type": "display_data"
    }
   ],
   "source": [
    "dataPath <- \"C:/Users/garim/Documents/Quarter 2/Data Mining/Project/Merged data\"\n",
    "master_data <- read.csv(paste(dataPath,\"master_data_with_imputed_budget_and_revenue.csv\", sep = \"/\"))\n",
    "summary(master_data)"
   ]
  },
  {
   "cell_type": "code",
   "execution_count": 6,
   "metadata": {},
   "outputs": [],
   "source": [
    "master_data$release_date <- as.Date(master_data$release_date)"
   ]
  },
  {
   "cell_type": "markdown",
   "metadata": {},
   "source": [
    "To cut the impact of inflation on movie revenues & budgets, I am excluding data of movies released before Jan 1985"
   ]
  },
  {
   "cell_type": "code",
   "execution_count": 7,
   "metadata": {},
   "outputs": [],
   "source": [
    "master_data <- master_data[master_data$release_date > as.Date(\"01/01/1985\",\"%m/%d/%Y\"),]\n",
    "master_data <- master_data[master_data$budget > 0,]\n",
    "master_data$actor_1_gender <- as.factor(ifelse(master_data$actor_1_gender==0,NA,ifelse(master_data$actor_1_gender==2,\"Male\",\"Female\")))\n",
    "master_data$actor_2_gender <- as.factor(ifelse(master_data$actor_2_gender==0,NA,ifelse(master_data$actor_2_gender==2,\"Male\",\"Female\")))\n",
    "master_data$actor_3_gender <- as.factor(ifelse(master_data$actor_3_gender==0,NA,ifelse(master_data$actor_3_gender==2,\"Male\",\"Female\")))\n",
    "master_data$actor_4_gender <- as.factor(ifelse(master_data$actor_4_gender==0,NA,ifelse(master_data$actor_4_gender==2,\"Male\",\"Female\")))\n",
    "master_data$actor_5_gender <- as.factor(ifelse(master_data$actor_5_gender==0,NA,ifelse(master_data$actor_5_gender==2,\"Male\",\"Female\")))\n",
    "master_data$director_gender <- as.factor(ifelse(master_data$director_gender==0,NA,ifelse(master_data$director_gender==2,\"Male\",\"Female\")))\n",
    "master_data$producer_gender <- as.factor(ifelse(master_data$producer_gender==0,NA,ifelse(master_data$producer_gender==2,\"Male\",\"Female\")))\n",
    "master_data$collection <- as.factor(ifelse(nchar(as.character(master_data$belongs_to_collection))>0,\"Yes\",\"No\"))\n",
    "master_data$num_prod_comp <-(master_data$production_company_1!=\"\")+(master_data$production_company_2!=\"\")+\n",
    "                            (master_data$production_company_3!=\"\")\n",
    "\n",
    "master_data$num_prod_ctry <-(master_data$production_country_1!=\"\")+(master_data$production_country_2!=\"\")+\n",
    "                            (master_data$production_country_3!=\"\")\n",
    "\n",
    "master_data$release_month <- month.abb[month(master_data$release_date)]\n",
    "\n",
    "master_data <- master_data[ , -which(names(master_data) %in% \n",
    "              c( \"movie_id\" ,\"actor_1_name\",\"actor_2_name\",\"actor_3_name\",\"actor_4_name\",\"actor_5_name\",\"director_name\",\"producer_name\",\n",
    "                 \"casting_gender\",\"casting_name\",\"belongs_to_collection\",\"genre_2\",\"genre_3\",\"genre_4\",\"production_company_1\",\n",
    "                 \"production_company_2\",\"production_company_3\" ,\"production_country_1\", \"production_country_2\",  \"production_country_3\" , \"spoken_language_1\",\"spoken_language_2\", \"spoken_language_3\" ,\"homepage\",\"imdb_id\" ,\"original_title\",\"overview\",\"poster_path\", \"status\",\"title\",\"video\"))]"
   ]
  },
  {
   "cell_type": "markdown",
   "metadata": {},
   "source": [
    "Looking at the distribution of data in different variables:"
   ]
  },
  {
   "cell_type": "code",
   "execution_count": 8,
   "metadata": {},
   "outputs": [
    {
     "name": "stderr",
     "output_type": "stream",
     "text": [
      "Loading required package: ggplot2\n",
      "Warning message:\n",
      "\"package 'ggplot2' was built under R version 3.4.4\"\n",
      "Attaching package: 'ggplot2'\n",
      "\n",
      "The following object is masked from 'package:randomForest':\n",
      "\n",
      "    margin\n",
      "\n",
      "`stat_bin()` using `bins = 30`. Pick better value with `binwidth`.\n",
      "Warning message:\n",
      "\"Removed 1508 rows containing non-finite values (stat_bin).\"`stat_bin()` using `bins = 30`. Pick better value with `binwidth`.\n",
      "Warning message:\n",
      "\"Removed 1508 rows containing non-finite values (stat_bin).\"`stat_bin()` using `bins = 30`. Pick better value with `binwidth`.\n",
      "Warning message:\n",
      "\"Removed 1508 rows containing non-finite values (stat_bin).\"`stat_bin()` using `bins = 30`. Pick better value with `binwidth`.\n",
      "Warning message:\n",
      "\"Removed 1508 rows containing non-finite values (stat_bin).\"`stat_bin()` using `bins = 30`. Pick better value with `binwidth`.\n",
      "Warning message:\n",
      "\"Removed 1508 rows containing non-finite values (stat_bin).\""
     ]
    },
    {
     "data": {
      "image/png": "[encoded data removed]",
      "text/plain": [
       "plot without title"
      ]
     },
     "metadata": {},
     "output_type": "display_data"
    }
   ],
   "source": [
    "require(ggplot2)\n",
    "\n",
    "p1<- ggplot(master_data, aes(x = actor_1_gender)) + geom_bar()\n",
    "p2<- ggplot(master_data, aes(x = actor_2_gender)) + geom_bar()\n",
    "p3<- ggplot(master_data, aes(x = actor_3_gender)) + geom_bar()\n",
    "p4<- ggplot(master_data, aes(x = actor_4_gender)) + geom_bar()\n",
    "p5<- ggplot(master_data, aes(x = actor_5_gender)) + geom_bar()\n",
    "p6<- ggplot(master_data, aes(x = director_gender)) + geom_bar()\n",
    "p7<- ggplot(master_data, aes(x = producer_gender)) + geom_bar()\n",
    "p8<- ggplot(master_data, aes(x = budget)) + geom_histogram()\n",
    "p9<- ggplot(master_data, aes(x = revenue)) + geom_histogram()\n",
    "p10<-ggplot(master_data, aes(x = popularity)) + geom_histogram()\n",
    "p11<-ggplot(master_data, aes(x = vote_average)) + geom_histogram()\n",
    "p12<-ggplot(master_data, aes(x = vote_count)) + geom_histogram()\n",
    "\n",
    "\n",
    "grid.arrange(p1,p2,p3,p4,p5,p6,p7,p8,p9,p10,p11,p12, nrow = 4, ncol=3)"
   ]
  },
  {
   "cell_type": "markdown",
   "metadata": {},
   "source": [
    "Plots show that there are a lot of NA values in the different columns. Counting the NA values per column in the data"
   ]
  },
  {
   "cell_type": "code",
   "execution_count": 10,
   "metadata": {},
   "outputs": [
    {
     "data": {
      "text/html": [
       "<dl class=dl-horizontal>\n",
       "\t<dt>actor_1_gender</dt>\n",
       "\t\t<dd>0.27</dd>\n",
       "\t<dt>actor_2_gender</dt>\n",
       "\t\t<dd>0.3</dd>\n",
       "\t<dt>actor_3_gender</dt>\n",
       "\t\t<dd>0.32</dd>\n",
       "\t<dt>actor_4_gender</dt>\n",
       "\t\t<dd>0.35</dd>\n",
       "\t<dt>actor_5_gender</dt>\n",
       "\t\t<dd>0.39</dd>\n",
       "\t<dt>director_gender</dt>\n",
       "\t\t<dd>0.39</dd>\n",
       "\t<dt>producer_gender</dt>\n",
       "\t\t<dd>0.55</dd>\n",
       "\t<dt>genre_1</dt>\n",
       "\t\t<dd>0.17</dd>\n",
       "\t<dt>adult</dt>\n",
       "\t\t<dd>0.17</dd>\n",
       "\t<dt>budget</dt>\n",
       "\t\t<dd>0.17</dd>\n",
       "\t<dt>original_language</dt>\n",
       "\t\t<dd>0.17</dd>\n",
       "\t<dt>popularity</dt>\n",
       "\t\t<dd>0.17</dd>\n",
       "\t<dt>release_date</dt>\n",
       "\t\t<dd>0.17</dd>\n",
       "\t<dt>revenue</dt>\n",
       "\t\t<dd>0.17</dd>\n",
       "\t<dt>runtime</dt>\n",
       "\t\t<dd>0.17</dd>\n",
       "\t<dt>tagline</dt>\n",
       "\t\t<dd>0.17</dd>\n",
       "\t<dt>vote_average</dt>\n",
       "\t\t<dd>0.17</dd>\n",
       "\t<dt>vote_count</dt>\n",
       "\t\t<dd>0.17</dd>\n",
       "\t<dt>collection</dt>\n",
       "\t\t<dd>0.17</dd>\n",
       "\t<dt>num_prod_comp</dt>\n",
       "\t\t<dd>0.17</dd>\n",
       "\t<dt>num_prod_ctry</dt>\n",
       "\t\t<dd>0.17</dd>\n",
       "\t<dt>release_month</dt>\n",
       "\t\t<dd>0.17</dd>\n",
       "\t<dt>na_count</dt>\n",
       "\t\t<dd>0</dd>\n",
       "</dl>\n"
      ],
      "text/latex": [
       "\\begin{description*}\n",
       "\\item[actor\\textbackslash{}\\_1\\textbackslash{}\\_gender] 0.27\n",
       "\\item[actor\\textbackslash{}\\_2\\textbackslash{}\\_gender] 0.3\n",
       "\\item[actor\\textbackslash{}\\_3\\textbackslash{}\\_gender] 0.32\n",
       "\\item[actor\\textbackslash{}\\_4\\textbackslash{}\\_gender] 0.35\n",
       "\\item[actor\\textbackslash{}\\_5\\textbackslash{}\\_gender] 0.39\n",
       "\\item[director\\textbackslash{}\\_gender] 0.39\n",
       "\\item[producer\\textbackslash{}\\_gender] 0.55\n",
       "\\item[genre\\textbackslash{}\\_1] 0.17\n",
       "\\item[adult] 0.17\n",
       "\\item[budget] 0.17\n",
       "\\item[original\\textbackslash{}\\_language] 0.17\n",
       "\\item[popularity] 0.17\n",
       "\\item[release\\textbackslash{}\\_date] 0.17\n",
       "\\item[revenue] 0.17\n",
       "\\item[runtime] 0.17\n",
       "\\item[tagline] 0.17\n",
       "\\item[vote\\textbackslash{}\\_average] 0.17\n",
       "\\item[vote\\textbackslash{}\\_count] 0.17\n",
       "\\item[collection] 0.17\n",
       "\\item[num\\textbackslash{}\\_prod\\textbackslash{}\\_comp] 0.17\n",
       "\\item[num\\textbackslash{}\\_prod\\textbackslash{}\\_ctry] 0.17\n",
       "\\item[release\\textbackslash{}\\_month] 0.17\n",
       "\\item[na\\textbackslash{}\\_count] 0\n",
       "\\end{description*}\n"
      ],
      "text/markdown": [
       "actor_1_gender\n",
       ":   0.27actor_2_gender\n",
       ":   0.3actor_3_gender\n",
       ":   0.32actor_4_gender\n",
       ":   0.35actor_5_gender\n",
       ":   0.39director_gender\n",
       ":   0.39producer_gender\n",
       ":   0.55genre_1\n",
       ":   0.17adult\n",
       ":   0.17budget\n",
       ":   0.17original_language\n",
       ":   0.17popularity\n",
       ":   0.17release_date\n",
       ":   0.17revenue\n",
       ":   0.17runtime\n",
       ":   0.17tagline\n",
       ":   0.17vote_average\n",
       ":   0.17vote_count\n",
       ":   0.17collection\n",
       ":   0.17num_prod_comp\n",
       ":   0.17num_prod_ctry\n",
       ":   0.17release_month\n",
       ":   0.17na_count\n",
       ":   0\n",
       "\n"
      ],
      "text/plain": [
       "   actor_1_gender    actor_2_gender    actor_3_gender    actor_4_gender \n",
       "             0.27              0.30              0.32              0.35 \n",
       "   actor_5_gender   director_gender   producer_gender           genre_1 \n",
       "             0.39              0.39              0.55              0.17 \n",
       "            adult            budget original_language        popularity \n",
       "             0.17              0.17              0.17              0.17 \n",
       "     release_date           revenue           runtime           tagline \n",
       "             0.17              0.17              0.17              0.17 \n",
       "     vote_average        vote_count        collection     num_prod_comp \n",
       "             0.17              0.17              0.17              0.17 \n",
       "    num_prod_ctry     release_month          na_count \n",
       "             0.17              0.17              0.00 "
      ]
     },
     "metadata": {},
     "output_type": "display_data"
    }
   ],
   "source": [
    "perc_na <- function(x){\n",
    "  return(sum(is.na(x))/length(x))\n",
    "}\n",
    "\n",
    "round(apply(master_data, 2, function(x) perc_na(x)),2)\n"
   ]
  },
  {
   "cell_type": "code",
   "execution_count": 11,
   "metadata": {},
   "outputs": [
    {
     "data": {
      "text/plain": [
       "\n",
       "   0    1    2    3    4    5    6    7    8   22 \n",
       "2550 1895 1053  571  386  300  262  244    4 1508 "
      ]
     },
     "metadata": {},
     "output_type": "display_data"
    }
   ],
   "source": [
    "master_data$na_count <- apply(master_data, 1, function(x) sum(is.na(x)))\n",
    "table(master_data$na_count)"
   ]
  },
  {
   "cell_type": "markdown",
   "metadata": {},
   "source": [
    "Deleting records with missing data in more than 9 columns, and checking the poportion of missing values in the updated data set"
   ]
  },
  {
   "cell_type": "code",
   "execution_count": 12,
   "metadata": {},
   "outputs": [
    {
     "data": {
      "text/html": [
       "<ol class=list-inline>\n",
       "\t<li>7265</li>\n",
       "\t<li>23</li>\n",
       "</ol>\n"
      ],
      "text/latex": [
       "\\begin{enumerate*}\n",
       "\\item 7265\n",
       "\\item 23\n",
       "\\end{enumerate*}\n"
      ],
      "text/markdown": [
       "1. 7265\n",
       "2. 23\n",
       "\n",
       "\n"
      ],
      "text/plain": [
       "[1] 7265   23"
      ]
     },
     "metadata": {},
     "output_type": "display_data"
    },
    {
     "data": {
      "text/html": [
       "<dl class=dl-horizontal>\n",
       "\t<dt>actor_1_gender</dt>\n",
       "\t\t<dd>0.12</dd>\n",
       "\t<dt>actor_2_gender</dt>\n",
       "\t\t<dd>0.15</dd>\n",
       "\t<dt>actor_3_gender</dt>\n",
       "\t\t<dd>0.18</dd>\n",
       "\t<dt>actor_4_gender</dt>\n",
       "\t\t<dd>0.22</dd>\n",
       "\t<dt>actor_5_gender</dt>\n",
       "\t\t<dd>0.26</dd>\n",
       "\t<dt>director_gender</dt>\n",
       "\t\t<dd>0.27</dd>\n",
       "\t<dt>producer_gender</dt>\n",
       "\t\t<dd>0.46</dd>\n",
       "\t<dt>genre_1</dt>\n",
       "\t\t<dd>0</dd>\n",
       "\t<dt>adult</dt>\n",
       "\t\t<dd>0</dd>\n",
       "\t<dt>budget</dt>\n",
       "\t\t<dd>0</dd>\n",
       "\t<dt>original_language</dt>\n",
       "\t\t<dd>0</dd>\n",
       "\t<dt>popularity</dt>\n",
       "\t\t<dd>0</dd>\n",
       "\t<dt>release_date</dt>\n",
       "\t\t<dd>0</dd>\n",
       "\t<dt>revenue</dt>\n",
       "\t\t<dd>0</dd>\n",
       "\t<dt>runtime</dt>\n",
       "\t\t<dd>0</dd>\n",
       "\t<dt>tagline</dt>\n",
       "\t\t<dd>0</dd>\n",
       "\t<dt>vote_average</dt>\n",
       "\t\t<dd>0</dd>\n",
       "\t<dt>vote_count</dt>\n",
       "\t\t<dd>0</dd>\n",
       "\t<dt>collection</dt>\n",
       "\t\t<dd>0</dd>\n",
       "\t<dt>num_prod_comp</dt>\n",
       "\t\t<dd>0</dd>\n",
       "\t<dt>num_prod_ctry</dt>\n",
       "\t\t<dd>0</dd>\n",
       "\t<dt>release_month</dt>\n",
       "\t\t<dd>0</dd>\n",
       "\t<dt>na_count</dt>\n",
       "\t\t<dd>0</dd>\n",
       "</dl>\n"
      ],
      "text/latex": [
       "\\begin{description*}\n",
       "\\item[actor\\textbackslash{}\\_1\\textbackslash{}\\_gender] 0.12\n",
       "\\item[actor\\textbackslash{}\\_2\\textbackslash{}\\_gender] 0.15\n",
       "\\item[actor\\textbackslash{}\\_3\\textbackslash{}\\_gender] 0.18\n",
       "\\item[actor\\textbackslash{}\\_4\\textbackslash{}\\_gender] 0.22\n",
       "\\item[actor\\textbackslash{}\\_5\\textbackslash{}\\_gender] 0.26\n",
       "\\item[director\\textbackslash{}\\_gender] 0.27\n",
       "\\item[producer\\textbackslash{}\\_gender] 0.46\n",
       "\\item[genre\\textbackslash{}\\_1] 0\n",
       "\\item[adult] 0\n",
       "\\item[budget] 0\n",
       "\\item[original\\textbackslash{}\\_language] 0\n",
       "\\item[popularity] 0\n",
       "\\item[release\\textbackslash{}\\_date] 0\n",
       "\\item[revenue] 0\n",
       "\\item[runtime] 0\n",
       "\\item[tagline] 0\n",
       "\\item[vote\\textbackslash{}\\_average] 0\n",
       "\\item[vote\\textbackslash{}\\_count] 0\n",
       "\\item[collection] 0\n",
       "\\item[num\\textbackslash{}\\_prod\\textbackslash{}\\_comp] 0\n",
       "\\item[num\\textbackslash{}\\_prod\\textbackslash{}\\_ctry] 0\n",
       "\\item[release\\textbackslash{}\\_month] 0\n",
       "\\item[na\\textbackslash{}\\_count] 0\n",
       "\\end{description*}\n"
      ],
      "text/markdown": [
       "actor_1_gender\n",
       ":   0.12actor_2_gender\n",
       ":   0.15actor_3_gender\n",
       ":   0.18actor_4_gender\n",
       ":   0.22actor_5_gender\n",
       ":   0.26director_gender\n",
       ":   0.27producer_gender\n",
       ":   0.46genre_1\n",
       ":   0adult\n",
       ":   0budget\n",
       ":   0original_language\n",
       ":   0popularity\n",
       ":   0release_date\n",
       ":   0revenue\n",
       ":   0runtime\n",
       ":   0tagline\n",
       ":   0vote_average\n",
       ":   0vote_count\n",
       ":   0collection\n",
       ":   0num_prod_comp\n",
       ":   0num_prod_ctry\n",
       ":   0release_month\n",
       ":   0na_count\n",
       ":   0\n",
       "\n"
      ],
      "text/plain": [
       "   actor_1_gender    actor_2_gender    actor_3_gender    actor_4_gender \n",
       "             0.12              0.15              0.18              0.22 \n",
       "   actor_5_gender   director_gender   producer_gender           genre_1 \n",
       "             0.26              0.27              0.46              0.00 \n",
       "            adult            budget original_language        popularity \n",
       "             0.00              0.00              0.00              0.00 \n",
       "     release_date           revenue           runtime           tagline \n",
       "             0.00              0.00              0.00              0.00 \n",
       "     vote_average        vote_count        collection     num_prod_comp \n",
       "             0.00              0.00              0.00              0.00 \n",
       "    num_prod_ctry     release_month          na_count \n",
       "             0.00              0.00              0.00 "
      ]
     },
     "metadata": {},
     "output_type": "display_data"
    }
   ],
   "source": [
    "data <- master_data[master_data$na_count<9,]\n",
    "dim(data)\n",
    "\n",
    "round(apply(data, 2, function(x) perc_na(x)),2)"
   ]
  },
  {
   "cell_type": "markdown",
   "metadata": {},
   "source": [
    "After removing these records, we are left with about 10% missing values in the gender column of lead actors, and 24% missing values in budget. Rest of the columns look good. \n",
    "\n",
    "Checking the distribution of our dependent variable (revenue)"
   ]
  },
  {
   "cell_type": "code",
   "execution_count": 13,
   "metadata": {},
   "outputs": [
    {
     "data": {
      "text/html": [
       "<table>\n",
       "<thead><tr><th scope=col>Group.1</th><th scope=col>x</th><th scope=col>size</th></tr></thead>\n",
       "<tbody>\n",
       "\t<tr><td>1          </td><td>        0.0</td><td>1453       </td></tr>\n",
       "\t<tr><td>2          </td><td>   107560.2</td><td>1453       </td></tr>\n",
       "\t<tr><td>3          </td><td>  8069558.4</td><td>1453       </td></tr>\n",
       "\t<tr><td>4          </td><td> 44018587.8</td><td>1453       </td></tr>\n",
       "\t<tr><td>5          </td><td>264762403.1</td><td>1453       </td></tr>\n",
       "</tbody>\n",
       "</table>\n"
      ],
      "text/latex": [
       "\\begin{tabular}{r|lll}\n",
       " Group.1 & x & size\\\\\n",
       "\\hline\n",
       "\t 1           &         0.0 & 1453       \\\\\n",
       "\t 2           &    107560.2 & 1453       \\\\\n",
       "\t 3           &   8069558.4 & 1453       \\\\\n",
       "\t 4           &  44018587.8 & 1453       \\\\\n",
       "\t 5           & 264762403.1 & 1453       \\\\\n",
       "\\end{tabular}\n"
      ],
      "text/markdown": [
       "\n",
       "Group.1 | x | size | \n",
       "|---|---|---|---|---|\n",
       "| 1           |         0.0 | 1453        | \n",
       "| 2           |    107560.2 | 1453        | \n",
       "| 3           |   8069558.4 | 1453        | \n",
       "| 4           |  44018587.8 | 1453        | \n",
       "| 5           | 264762403.1 | 1453        | \n",
       "\n",
       "\n"
      ],
      "text/plain": [
       "  Group.1 x           size\n",
       "1 1               0.0 1453\n",
       "2 2          107560.2 1453\n",
       "3 3         8069558.4 1453\n",
       "4 4        44018587.8 1453\n",
       "5 5       264762403.1 1453"
      ]
     },
     "metadata": {},
     "output_type": "display_data"
    },
    {
     "name": "stderr",
     "output_type": "stream",
     "text": [
      "`stat_bin()` using `bins = 30`. Pick better value with `binwidth`.\n"
     ]
    },
    {
     "data": {},
     "metadata": {},
     "output_type": "display_data"
    },
    {
     "data": {
      "image/png": "[encoded data removed]",
      "text/plain": [
       "plot without title"
      ]
     },
     "metadata": {},
     "output_type": "display_data"
    }
   ],
   "source": [
    "data$quartile <- ntile(data$revenue, 5)\n",
    "size = as.matrix(table(data$quartile))\n",
    "cbind(aggregate(data$revenue, by = list(data$quartile), mean), size)\n",
    "ggplot(data, aes(x = revenue)) + geom_histogram()"
   ]
  },
  {
   "cell_type": "markdown",
   "metadata": {},
   "source": [
    "\n",
    "Missing value estimation:"
   ]
  },
  {
   "cell_type": "code",
   "execution_count": 16,
   "metadata": {},
   "outputs": [],
   "source": [
    "mean_impute <- function(x){\n",
    "  a<- (mean(x[!is.na(x)]))\n",
    "  x <- ifelse(is.na(x), a, x)\n",
    "  return(x)\n",
    "}\n",
    "\n",
    "median_impute <-  function(x){\n",
    "  a<- (median(x[!is.na(x)]))\n",
    "  x <- ifelse(is.na(x), a, x)\n",
    "  return(x)\n",
    "}\n",
    "\n",
    "mode_impute <-  function(x){\n",
    "  ux <- (unique(x))\n",
    "  a<-ux[which.max(tabulate(match(x[!is.na(x)], ux)))]\n",
    "  x <- ifelse(is.na(x), a, x)\n",
    "  return(x)\n",
    "}\n",
    "\n",
    "data.imp <-data"
   ]
  },
  {
   "cell_type": "markdown",
   "metadata": {},
   "source": [
    "#### Imputing missing data in gender and runtime columns using mode and median respectively"
   ]
  },
  {
   "cell_type": "code",
   "execution_count": 18,
   "metadata": {},
   "outputs": [
    {
     "data": {
      "text/html": [
       "<dl class=dl-horizontal>\n",
       "\t<dt>actor_1_gender</dt>\n",
       "\t\t<dd>0</dd>\n",
       "\t<dt>actor_2_gender</dt>\n",
       "\t\t<dd>0</dd>\n",
       "\t<dt>actor_3_gender</dt>\n",
       "\t\t<dd>&lt;NA&gt;</dd>\n",
       "\t<dt>actor_4_gender</dt>\n",
       "\t\t<dd>&lt;NA&gt;</dd>\n",
       "\t<dt>actor_5_gender</dt>\n",
       "\t\t<dd>&lt;NA&gt;</dd>\n",
       "\t<dt>director_gender</dt>\n",
       "\t\t<dd>&lt;NA&gt;</dd>\n",
       "\t<dt>producer_gender</dt>\n",
       "\t\t<dd>&lt;NA&gt;</dd>\n",
       "\t<dt>genre_1</dt>\n",
       "\t\t<dd>0.02</dd>\n",
       "\t<dt>adult</dt>\n",
       "\t\t<dd>0</dd>\n",
       "\t<dt>budget</dt>\n",
       "\t\t<dd>0</dd>\n",
       "\t<dt>original_language</dt>\n",
       "\t\t<dd>0</dd>\n",
       "\t<dt>popularity</dt>\n",
       "\t\t<dd>0</dd>\n",
       "\t<dt>release_date</dt>\n",
       "\t\t<dd>0</dd>\n",
       "\t<dt>revenue</dt>\n",
       "\t\t<dd>0</dd>\n",
       "\t<dt>runtime</dt>\n",
       "\t\t<dd>0</dd>\n",
       "\t<dt>tagline</dt>\n",
       "\t\t<dd>0.26</dd>\n",
       "\t<dt>vote_average</dt>\n",
       "\t\t<dd>0</dd>\n",
       "\t<dt>vote_count</dt>\n",
       "\t\t<dd>0</dd>\n",
       "\t<dt>collection</dt>\n",
       "\t\t<dd>0</dd>\n",
       "\t<dt>num_prod_comp</dt>\n",
       "\t\t<dd>0</dd>\n",
       "\t<dt>num_prod_ctry</dt>\n",
       "\t\t<dd>0</dd>\n",
       "\t<dt>release_month</dt>\n",
       "\t\t<dd>0</dd>\n",
       "\t<dt>na_count</dt>\n",
       "\t\t<dd>0</dd>\n",
       "\t<dt>quartile</dt>\n",
       "\t\t<dd>0</dd>\n",
       "</dl>\n"
      ],
      "text/latex": [
       "\\begin{description*}\n",
       "\\item[actor\\textbackslash{}\\_1\\textbackslash{}\\_gender] 0\n",
       "\\item[actor\\textbackslash{}\\_2\\textbackslash{}\\_gender] 0\n",
       "\\item[actor\\textbackslash{}\\_3\\textbackslash{}\\_gender] <NA>\n",
       "\\item[actor\\textbackslash{}\\_4\\textbackslash{}\\_gender] <NA>\n",
       "\\item[actor\\textbackslash{}\\_5\\textbackslash{}\\_gender] <NA>\n",
       "\\item[director\\textbackslash{}\\_gender] <NA>\n",
       "\\item[producer\\textbackslash{}\\_gender] <NA>\n",
       "\\item[genre\\textbackslash{}\\_1] 0.02\n",
       "\\item[adult] 0\n",
       "\\item[budget] 0\n",
       "\\item[original\\textbackslash{}\\_language] 0\n",
       "\\item[popularity] 0\n",
       "\\item[release\\textbackslash{}\\_date] 0\n",
       "\\item[revenue] 0\n",
       "\\item[runtime] 0\n",
       "\\item[tagline] 0.26\n",
       "\\item[vote\\textbackslash{}\\_average] 0\n",
       "\\item[vote\\textbackslash{}\\_count] 0\n",
       "\\item[collection] 0\n",
       "\\item[num\\textbackslash{}\\_prod\\textbackslash{}\\_comp] 0\n",
       "\\item[num\\textbackslash{}\\_prod\\textbackslash{}\\_ctry] 0\n",
       "\\item[release\\textbackslash{}\\_month] 0\n",
       "\\item[na\\textbackslash{}\\_count] 0\n",
       "\\item[quartile] 0\n",
       "\\end{description*}\n"
      ],
      "text/markdown": [
       "actor_1_gender\n",
       ":   0actor_2_gender\n",
       ":   0actor_3_gender\n",
       ":   &lt;NA&gt;actor_4_gender\n",
       ":   &lt;NA&gt;actor_5_gender\n",
       ":   &lt;NA&gt;director_gender\n",
       ":   &lt;NA&gt;producer_gender\n",
       ":   &lt;NA&gt;genre_1\n",
       ":   0.02adult\n",
       ":   0budget\n",
       ":   0original_language\n",
       ":   0popularity\n",
       ":   0release_date\n",
       ":   0revenue\n",
       ":   0runtime\n",
       ":   0tagline\n",
       ":   0.26vote_average\n",
       ":   0vote_count\n",
       ":   0collection\n",
       ":   0num_prod_comp\n",
       ":   0num_prod_ctry\n",
       ":   0release_month\n",
       ":   0na_count\n",
       ":   0quartile\n",
       ":   0\n",
       "\n"
      ],
      "text/plain": [
       "   actor_1_gender    actor_2_gender    actor_3_gender    actor_4_gender \n",
       "             0.00              0.00                NA                NA \n",
       "   actor_5_gender   director_gender   producer_gender           genre_1 \n",
       "               NA                NA                NA              0.02 \n",
       "            adult            budget original_language        popularity \n",
       "             0.00              0.00              0.00              0.00 \n",
       "     release_date           revenue           runtime           tagline \n",
       "             0.00              0.00              0.00              0.26 \n",
       "     vote_average        vote_count        collection     num_prod_comp \n",
       "             0.00              0.00              0.00              0.00 \n",
       "    num_prod_ctry     release_month          na_count          quartile \n",
       "             0.00              0.00              0.00              0.00 "
      ]
     },
     "metadata": {},
     "output_type": "display_data"
    }
   ],
   "source": [
    "data.imp$actor_1_gender <- as.factor(mode_impute(data$actor_1_gender))\n",
    "data.imp$actor_2_gender <- as.factor(mode_impute(data$actor_2_gender))\n",
    "data.imp$runtime <- median_impute(data.imp$runtime)\n",
    "\n",
    "perc_blank <- function(x){\n",
    "  return(sum(x ==\"\"|x==\" \")/length(x))\n",
    "}\n",
    "round(apply(data.imp, 2, function(x) perc_blank(x)),2)"
   ]
  },
  {
   "cell_type": "markdown",
   "metadata": {},
   "source": [
    "Removing the extreme budget records"
   ]
  },
  {
   "cell_type": "code",
   "execution_count": 19,
   "metadata": {},
   "outputs": [
    {
     "data": {
      "text/html": [
       "220472844.257021"
      ],
      "text/latex": [
       "220472844.257021"
      ],
      "text/markdown": [
       "220472844.257021"
      ],
      "text/plain": [
       "[1] 220472844"
      ]
     },
     "metadata": {},
     "output_type": "display_data"
    },
    {
     "data": {
      "text/html": [
       "32"
      ],
      "text/latex": [
       "32"
      ],
      "text/markdown": [
       "32"
      ],
      "text/plain": [
       "[1] 32"
      ]
     },
     "metadata": {},
     "output_type": "display_data"
    }
   ],
   "source": [
    "sd.budget <- sqrt(var(data.imp$budget))\n",
    "sd.budget*6\n",
    "length(data.imp$budget[data.imp$budget>2e+08])\n",
    "data.imp <- data.imp[data.imp$budget<2e+08,]"
   ]
  },
  {
   "cell_type": "code",
   "execution_count": 20,
   "metadata": {},
   "outputs": [],
   "source": [
    "data.final <-data.imp[,-which(names(data.imp) %in% c( \"actor_2_gender\", \"actor_3_gender\", \"actor_4_gender\", \"actor_5_gender\",  \"director_gender\", \"producer_gender\", 'na_count', 'genre_1', 'adult','tagline','original_language'))]\n",
    "data.final$actor_1_gender <- as.factor(ifelse(data.final$actor_1_gender==2, \"Male\", \"Female\"))"
   ]
  },
  {
   "cell_type": "markdown",
   "metadata": {},
   "source": [
    "#### Splitting the data into test & train"
   ]
  },
  {
   "cell_type": "code",
   "execution_count": 21,
   "metadata": {},
   "outputs": [],
   "source": [
    "data.final$budget <- scale(data.final$budget)\n",
    "\n",
    "c <- round(nrow(data.final)*0.7,0)\n",
    "s <- sample(1:nrow(data.final), c)\n",
    "\n",
    "train <- data.final[s,]\n",
    "test <- data.final[-s,]"
   ]
  },
  {
   "cell_type": "markdown",
   "metadata": {},
   "source": [
    "#### Building a model to predict revenue of the movie before it is released. I will not model the vote count and vote average variables as they are collected after the release of the movie.\n",
    "\n",
    "***Building a multiple linear model for revenue prediction:***"
   ]
  },
  {
   "cell_type": "markdown",
   "metadata": {},
   "source": [
    "Checking the relationship between revenue and predictor variables:"
   ]
  },
  {
   "cell_type": "code",
   "execution_count": 22,
   "metadata": {},
   "outputs": [
    {
     "data": {},
     "metadata": {},
     "output_type": "display_data"
    },
    {
     "data": {},
     "metadata": {},
     "output_type": "display_data"
    },
    {
     "data": {
      "image/png": "[encoded data removed]",
      "text/plain": [
       "plot without title"
      ]
     },
     "metadata": {},
     "output_type": "display_data"
    },
    {
     "data": {},
     "metadata": {},
     "output_type": "display_data"
    },
    {
     "data": {
      "image/png": "[encoded data removed]",
      "text/plain": [
       "plot without title"
      ]
     },
     "metadata": {},
     "output_type": "display_data"
    },
    {
     "data": {},
     "metadata": {},
     "output_type": "display_data"
    },
    {
     "data": {
      "image/png": "[encoded data removed]",
      "text/plain": [
       "plot without title"
      ]
     },
     "metadata": {},
     "output_type": "display_data"
    },
    {
     "data": {},
     "metadata": {},
     "output_type": "display_data"
    },
    {
     "data": {
      "image/png": "[encoded data removed]",
      "text/plain": [
       "plot without title"
      ]
     },
     "metadata": {},
     "output_type": "display_data"
    },
    {
     "data": {},
     "metadata": {},
     "output_type": "display_data"
    },
    {
     "data": {
      "image/png": "[encoded data removed]",
      "text/plain": [
       "plot without title"
      ]
     },
     "metadata": {},
     "output_type": "display_data"
    },
    {
     "data": {},
     "metadata": {},
     "output_type": "display_data"
    },
    {
     "data": {
      "image/png": "[encoded data removed]",
      "text/plain": [
       "plot without title"
      ]
     },
     "metadata": {},
     "output_type": "display_data"
    },
    {
     "data": {},
     "metadata": {},
     "output_type": "display_data"
    },
    {
     "data": {
      "image/png": "[encoded data removed]",
      "text/plain": [
       "plot without title"
      ]
     },
     "metadata": {},
     "output_type": "display_data"
    },
    {
     "data": {},
     "metadata": {},
     "output_type": "display_data"
    },
    {
     "data": {
      "image/png": "[encoded data removed]",
      "text/plain": [
       "plot without title"
      ]
     },
     "metadata": {},
     "output_type": "display_data"
    },
    {
     "data": {
      "image/png": "[encoded data removed]",
      "text/plain": [
       "plot without title"
      ]
     },
     "metadata": {},
     "output_type": "display_data"
    }
   ],
   "source": [
    "ggplot(data.final,aes(budget,revenue,colour = collection)) + geom_point()\n",
    "ggplot(data.final,aes(budget,revenue,colour = actor_1_gender)) + geom_point()\n",
    "ggplot(data.final,aes(popularity,revenue)) + geom_point()\n",
    "ggplot(data.final,aes(runtime,revenue)) + geom_point(color = \"royal blue\")\n",
    "ggplot(data.final,aes(vote_average,revenue)) + geom_point()\n",
    "ggplot(data.final,aes(vote_count,revenue)) + geom_point()\n",
    "ggplot(data.final,aes(num_prod_comp,revenue)) + geom_bar(stat = \"identity\", color = \"sky blue\")\n",
    "ggplot(data.final,aes(num_prod_ctry ,revenue)) + geom_bar(stat = \"identity\", color = \"sky blue\")\n",
    "ggplot(data=data.final, aes(x=release_month, y=revenue)) + geom_bar(stat = 'identity', color = 'sky blue')\n"
   ]
  },
  {
   "cell_type": "markdown",
   "metadata": {},
   "source": [
    "Cleary vote count has an increasing relationship with revenue as that indicates # people who went to watch the movie. But I cannot model vote average and vote count for predicting revenue as they are collected after the movie is released"
   ]
  },
  {
   "cell_type": "markdown",
   "metadata": {},
   "source": [
    "**Fitting a linear model**"
   ]
  },
  {
   "cell_type": "code",
   "execution_count": 24,
   "metadata": {},
   "outputs": [
    {
     "data": {
      "text/plain": [
       "\n",
       "Call:\n",
       "lm(formula = revenue ~ actor_1_gender + popularity + runtime + \n",
       "    collection + num_prod_comp + budget, data = train)\n",
       "\n",
       "Residuals:\n",
       "       Min         1Q     Median         3Q        Max \n",
       "-409765912  -30185376     -68568   17419445 1083279321 \n",
       "\n",
       "Coefficients:\n",
       "                   Estimate Std. Error t value Pr(>|t|)    \n",
       "(Intercept)        41057978    5512791   7.448 1.11e-13 ***\n",
       "actor_1_genderMale -3920216    2760527  -1.420    0.156    \n",
       "popularity          2510099     114774  21.870  < 2e-16 ***\n",
       "runtime               24734      43704   0.566    0.571    \n",
       "collectionYes      42342304    3159785  13.400  < 2e-16 ***\n",
       "num_prod_comp      -4940559    1086024  -4.549 5.51e-06 ***\n",
       "budget             79245180    1302434  60.844  < 2e-16 ***\n",
       "---\n",
       "Signif. codes:  0 '***' 0.001 '**' 0.01 '*' 0.05 '.' 0.1 ' ' 1\n",
       "\n",
       "Residual standard error: 82280000 on 5040 degrees of freedom\n",
       "Multiple R-squared:  0.5812,\tAdjusted R-squared:  0.5807 \n",
       "F-statistic:  1166 on 6 and 5040 DF,  p-value: < 2.2e-16\n"
      ]
     },
     "metadata": {},
     "output_type": "display_data"
    },
    {
     "data": {
      "text/html": [
       "<table>\n",
       "<thead><tr><th scope=col>rmseTrain</th><th scope=col>rmseTest</th></tr></thead>\n",
       "<tbody>\n",
       "\t<tr><td>82224777</td><td>76943955</td></tr>\n",
       "</tbody>\n",
       "</table>\n"
      ],
      "text/latex": [
       "\\begin{tabular}{ll}\n",
       " rmseTrain & rmseTest\\\\\n",
       "\\hline\n",
       "\t 82224777 & 76943955\\\\\n",
       "\\end{tabular}\n"
      ],
      "text/markdown": [
       "\n",
       "rmseTrain | rmseTest | \n",
       "|---|\n",
       "| 82224777 | 76943955 | \n",
       "\n",
       "\n"
      ],
      "text/plain": [
       "     rmseTrain rmseTest\n",
       "[1,] 82224777  76943955"
      ]
     },
     "metadata": {},
     "output_type": "display_data"
    }
   ],
   "source": [
    "revenue_pred <- lm(revenue~ actor_1_gender+ popularity+runtime+collection+num_prod_comp+ budget, data = train)\n",
    "summary(revenue_pred)\n",
    "\n",
    "rmseTest <- rmse((predict(revenue_pred, test)),test$revenue)\n",
    "rmseTrain <-rmse((predict(revenue_pred, train)),train$revenue)\n",
    "\n",
    "#Validation\n",
    "cbind(rmseTrain, rmseTest)"
   ]
  },
  {
   "cell_type": "markdown",
   "metadata": {},
   "source": [
    "\n",
    "The linear model does not give a good fit and the resons could be:\n",
    "\n",
    "+ interaction between variables e.g.: popularity is driven by actors, budget is driven by runtime- number of countries in which the movie is launched\n",
    "\n",
    "+ Scatter plots do not show a perfect linear relationship between the dependent and independent variables\n",
    "\n",
    "**Fitting a regression tree model**\n",
    "to take into account the interactions between variables"
   ]
  },
  {
   "cell_type": "code",
   "execution_count": 25,
   "metadata": {},
   "outputs": [
    {
     "name": "stdout",
     "output_type": "stream",
     "text": [
      "\n",
      "Regression tree:\n",
      "rpart(formula = revenue ~ actor_1_gender + popularity + runtime + \n",
      "    collection + num_prod_comp + num_prod_ctry + budget, data = train)\n",
      "\n",
      "Variables actually used in tree construction:\n",
      "[1] budget     collection popularity\n",
      "\n",
      "Root node error: 8.1474e+19/5047 = 1.6143e+16\n",
      "\n",
      "n= 5047 \n",
      "\n",
      "         CP nsplit rel error  xerror     xstd\n",
      "1  0.376742      0   1.00000 1.00040 0.074406\n",
      "2  0.105704      1   0.62326 0.64506 0.047185\n",
      "3  0.066770      2   0.51755 0.54746 0.034884\n",
      "4  0.027043      3   0.45078 0.47734 0.032387\n",
      "5  0.021346      4   0.42374 0.45546 0.030512\n",
      "6  0.012600      5   0.40239 0.43374 0.029099\n",
      "7  0.012424      6   0.38979 0.43444 0.029491\n",
      "8  0.012167      7   0.37737 0.43293 0.029956\n",
      "9  0.010393      8   0.36520 0.42090 0.029559\n",
      "10 0.010000      9   0.35481 0.41187 0.029047\n",
      "\n",
      "Regression tree:\n",
      "rpart(formula = revenue ~ actor_1_gender + popularity + runtime + \n",
      "    collection + num_prod_comp + num_prod_ctry + budget, data = train)\n",
      "\n",
      "Variables actually used in tree construction:\n",
      "[1] budget     collection popularity\n",
      "\n",
      "Root node error: 8.1474e+19/5047 = 1.6143e+16\n",
      "\n",
      "n= 5047 \n",
      "\n",
      "         CP nsplit rel error  xerror     xstd\n",
      "1  0.376742      0   1.00000 1.00040 0.074406\n",
      "2  0.105704      1   0.62326 0.64506 0.047185\n",
      "3  0.066770      2   0.51755 0.54746 0.034884\n",
      "4  0.027043      3   0.45078 0.47734 0.032387\n",
      "5  0.021346      4   0.42374 0.45546 0.030512\n",
      "6  0.012600      5   0.40239 0.43374 0.029099\n",
      "7  0.012424      6   0.38979 0.43444 0.029491\n",
      "8  0.012167      7   0.37737 0.43293 0.029956\n",
      "9  0.010393      8   0.36520 0.42090 0.029559\n",
      "10 0.010000      9   0.35481 0.41187 0.029047\n"
     ]
    },
    {
     "data": {
      "image/png": "[encoded data removed]",
      "text/plain": [
       "plot without title"
      ]
     },
     "metadata": {},
     "output_type": "display_data"
    },
    {
     "data": {
      "image/png": "[encoded data removed]",
      "text/plain": [
       "plot without title"
      ]
     },
     "metadata": {},
     "output_type": "display_data"
    },
    {
     "data": {
      "image/png": "[encoded data removed]",
      "text/plain": [
       "plot without title"
      ]
     },
     "metadata": {},
     "output_type": "display_data"
    }
   ],
   "source": [
    "revenue_tree <- rpart(revenue~ actor_1_gender+ popularity+runtime+collection+num_prod_comp+num_prod_ctry + budget , data = train)\n",
    "\n",
    "plotcp(revenue_tree)\n",
    "x <- printcp(revenue_tree)\n",
    "\n",
    "rsq.rpart(revenue_tree)\n"
   ]
  },
  {
   "cell_type": "markdown",
   "metadata": {},
   "source": [
    "Retreive optimal cp value based on cross-validated error"
   ]
  },
  {
   "cell_type": "code",
   "execution_count": 26,
   "metadata": {},
   "outputs": [],
   "source": [
    "opt_index <- which.min(revenue_tree$cptable[, \"xerror\"])\n",
    "cp_opt <- revenue_tree$cptable[opt_index, \"CP\"]\n",
    "\n",
    "revenue_tree_opt <- prune(tree = revenue_tree, \n",
    "                         cp = cp_opt)"
   ]
  },
  {
   "cell_type": "markdown",
   "metadata": {},
   "source": [
    "Display the pruned tree results"
   ]
  },
  {
   "cell_type": "code",
   "execution_count": 27,
   "metadata": {},
   "outputs": [
    {
     "name": "stdout",
     "output_type": "stream",
     "text": [
      "\n",
      "Regression tree:\n",
      "rpart(formula = revenue ~ actor_1_gender + popularity + runtime + \n",
      "    collection + num_prod_comp + num_prod_ctry + budget, data = train)\n",
      "\n",
      "Variables actually used in tree construction:\n",
      "[1] budget     collection popularity\n",
      "\n",
      "Root node error: 8.1474e+19/5047 = 1.6143e+16\n",
      "\n",
      "n= 5047 \n",
      "\n",
      "         CP nsplit rel error  xerror     xstd\n",
      "1  0.376742      0   1.00000 1.00040 0.074406\n",
      "2  0.105704      1   0.62326 0.64506 0.047185\n",
      "3  0.066770      2   0.51755 0.54746 0.034884\n",
      "4  0.027043      3   0.45078 0.47734 0.032387\n",
      "5  0.021346      4   0.42374 0.45546 0.030512\n",
      "6  0.012600      5   0.40239 0.43374 0.029099\n",
      "7  0.012424      6   0.38979 0.43444 0.029491\n",
      "8  0.012167      7   0.37737 0.43293 0.029956\n",
      "9  0.010393      8   0.36520 0.42090 0.029559\n",
      "10 0.010000      9   0.35481 0.41187 0.029047\n"
     ]
    },
    {
     "data": {
      "image/png": "[encoded data removed]",
      "text/plain": [
       "plot without title"
      ]
     },
     "metadata": {},
     "output_type": "display_data"
    },
    {
     "data": {
      "image/png": "[encoded data removed]",
      "text/plain": [
       "plot without title"
      ]
     },
     "metadata": {},
     "output_type": "display_data"
    },
    {
     "data": {
      "image/png": "[encoded data removed]",
      "text/plain": [
       "plot without title"
      ]
     },
     "metadata": {},
     "output_type": "display_data"
    }
   ],
   "source": [
    "rpart.plot(x = revenue_tree_opt, yesno = 2, type = 1, extra = 1)\n",
    "\n",
    "rsq.rpart(revenue_tree_opt)"
   ]
  },
  {
   "cell_type": "markdown",
   "metadata": {},
   "source": [
    "Looking at the accuracy and confusion matrix from tree model (test vs. train)"
   ]
  },
  {
   "cell_type": "code",
   "execution_count": 28,
   "metadata": {},
   "outputs": [
    {
     "data": {
      "text/html": [
       "<table>\n",
       "<thead><tr><th></th><th scope=col>Train</th><th scope=col>Test</th></tr></thead>\n",
       "<tbody>\n",
       "\t<tr><th scope=row>RMSE</th><td>75681879.46</td><td>81553477.54</td></tr>\n",
       "\t<tr><th scope=row>R-sq</th><td>       0.65</td><td>       0.52</td></tr>\n",
       "</tbody>\n",
       "</table>\n"
      ],
      "text/latex": [
       "\\begin{tabular}{r|ll}\n",
       "  & Train & Test\\\\\n",
       "\\hline\n",
       "\tRMSE & 75681879.46 & 81553477.54\\\\\n",
       "\tR-sq &        0.65 &        0.52\\\\\n",
       "\\end{tabular}\n"
      ],
      "text/markdown": [
       "\n",
       "| <!--/--> | Train | Test | \n",
       "|---|---|\n",
       "| RMSE | 75681879.46 | 81553477.54 | \n",
       "| R-sq |        0.65 |        0.52 | \n",
       "\n",
       "\n"
      ],
      "text/plain": [
       "     Train       Test       \n",
       "RMSE 75681879.46 81553477.54\n",
       "R-sq        0.65        0.52"
      ]
     },
     "metadata": {},
     "output_type": "display_data"
    }
   ],
   "source": [
    "predictedTest <- predict(revenue_tree_opt, test)\n",
    "rmseTest <- rmse((test$revenue),predictedTest)\n",
    "rmseTrain <- rmse((train$revenue),predict(revenue_tree_opt, train))\n",
    "\n",
    "r_sqTest <- 1-rmseTest^2/var(test$revenue)\n",
    "r_sqTr <- 1-rmseTrain^2/var(train$revenue)\n",
    "\n",
    "\n",
    "a<- round(rbind(cbind(rmseTrain, rmseTest), cbind(r_sqTr, r_sqTest)),2)\n",
    "rownames(a)<- c(\"RMSE\", \"R-sq\")\n",
    "colnames(a)<- c(\"Train\", \"Test\")\n",
    "a\n"
   ]
  },
  {
   "cell_type": "markdown",
   "metadata": {},
   "source": [
    "#### The fit of regression tree is similar to the linear regression model. I will fit random forests to see if the accuracy can be improved further by bootstrapping: "
   ]
  },
  {
   "cell_type": "code",
   "execution_count": 29,
   "metadata": {},
   "outputs": [],
   "source": [
    "rfor1 <- randomForest(revenue~ actor_1_gender+ popularity+runtime+collection+num_prod_comp+num_prod_ctry + budget, data= train)"
   ]
  },
  {
   "cell_type": "markdown",
   "metadata": {},
   "source": [
    "Looking at the accuracy and confusion matrix from the random forest model (test vs. train)"
   ]
  },
  {
   "cell_type": "code",
   "execution_count": 30,
   "metadata": {},
   "outputs": [
    {
     "data": {
      "text/plain": [
       "\n",
       "Call:\n",
       " randomForest(formula = revenue ~ actor_1_gender + popularity +      runtime + collection + num_prod_comp + num_prod_ctry + budget,      data = train) \n",
       "               Type of random forest: regression\n",
       "                     Number of trees: 500\n",
       "No. of variables tried at each split: 2\n",
       "\n",
       "          Mean of squared residuals: 5.612575e+15\n",
       "                    % Var explained: 65.23"
      ]
     },
     "metadata": {},
     "output_type": "display_data"
    },
    {
     "data": {
      "text/html": [
       "<table>\n",
       "<thead><tr><th></th><th scope=col>Train</th><th scope=col>Test</th></tr></thead>\n",
       "<tbody>\n",
       "\t<tr><th scope=row>RMSE</th><td>43707052.76</td><td>68973790.65</td></tr>\n",
       "\t<tr><th scope=row>R-sq</th><td>       0.88</td><td>       0.66</td></tr>\n",
       "</tbody>\n",
       "</table>\n"
      ],
      "text/latex": [
       "\\begin{tabular}{r|ll}\n",
       "  & Train & Test\\\\\n",
       "\\hline\n",
       "\tRMSE & 43707052.76 & 68973790.65\\\\\n",
       "\tR-sq &        0.88 &        0.66\\\\\n",
       "\\end{tabular}\n"
      ],
      "text/markdown": [
       "\n",
       "| <!--/--> | Train | Test | \n",
       "|---|---|\n",
       "| RMSE | 43707052.76 | 68973790.65 | \n",
       "| R-sq |        0.88 |        0.66 | \n",
       "\n",
       "\n"
      ],
      "text/plain": [
       "     Train       Test       \n",
       "RMSE 43707052.76 68973790.65\n",
       "R-sq        0.88        0.66"
      ]
     },
     "metadata": {},
     "output_type": "display_data"
    }
   ],
   "source": [
    "rfor1\n",
    "rmseTest <- rmse(predict(rfor1, test), test$revenue)\n",
    "rmseTrain <- rmse(predict(rfor1, train), train$revenue)\n",
    "Rsq_test <- 1-(rmseTest)^2/var(test$revenue)\n",
    "R_sqTr <- 1-(rmseTrain)^2/var(train$revenue)\n",
    "\n",
    "a<- round(rbind(cbind(rmseTrain, rmseTest), cbind(R_sqTr, Rsq_test)),2)\n",
    "rownames(a)<- c(\"RMSE\", \"R-sq\")\n",
    "colnames(a)<- c(\"Train\", \"Test\")\n",
    "a"
   ]
  },
  {
   "cell_type": "markdown",
   "metadata": {},
   "source": [
    "I see overfitting in this model. Let me set the node size to avoid this:"
   ]
  },
  {
   "cell_type": "code",
   "execution_count": 31,
   "metadata": {},
   "outputs": [
    {
     "name": "stdout",
     "output_type": "stream",
     "text": [
      "[1] 20\n",
      "          Train        Test\n",
      "RMSE 57451194.0 69928693.61\n",
      "R-sq        0.8        0.65\n",
      "[1] 25\n",
      "           Train        Test\n",
      "RMSE 59965155.46 69897369.82\n",
      "R-sq        0.78        0.65\n",
      "[1] 30\n",
      "           Train        Test\n",
      "RMSE 61544241.84 70432055.11\n",
      "R-sq        0.77        0.64\n",
      "[1] 35\n",
      "           Train        Test\n",
      "RMSE 62811259.17 70549707.34\n",
      "R-sq        0.76        0.64\n",
      "[1] 40\n",
      "           Train        Test\n",
      "RMSE 64241549.18 70661434.91\n",
      "R-sq        0.74        0.64\n"
     ]
    }
   ],
   "source": [
    "for (i in c(20,25,30,35,40)){\n",
    "\n",
    "  rfor2 <- randomForest(revenue~ actor_1_gender+ popularity+runtime+collection+num_prod_comp+ budget, data= train, nodesize = i)\n",
    "  rmseTest <- rmse(predict(rfor2, test), test$revenue)\n",
    "  rmseTrain <- rmse(predict(rfor2, train), train$revenue)\n",
    "  Rsq_test <- 1-(rmseTest)^2/var(test$revenue)\n",
    "  R_sqTr <- 1-(rmseTrain)^2/var(train$revenue)\n",
    "  \n",
    "  a<- round(rbind(cbind(rmseTrain, rmseTest), cbind(R_sqTr, Rsq_test)),2)\n",
    "  rownames(a)<- c(\"RMSE\", \"R-sq\")\n",
    "  colnames(a)<- c(\"Train\", \"Test\")\n",
    "  print(i)\n",
    "  print(a)\n",
    "}"
   ]
  },
  {
   "cell_type": "markdown",
   "metadata": {},
   "source": [
    "I will go with the node size 25. The model fit has clearly improved with random forests compared to the tree model"
   ]
  },
  {
   "cell_type": "code",
   "execution_count": 34,
   "metadata": {},
   "outputs": [
    {
     "data": {
      "text/html": [
       "<table>\n",
       "<thead><tr><th></th><th scope=col>IncNodePurity</th></tr></thead>\n",
       "<tbody>\n",
       "\t<tr><th scope=row>actor_1_gender</th><td>3.932558e+17</td></tr>\n",
       "\t<tr><th scope=row>popularity</th><td>2.018656e+19</td></tr>\n",
       "\t<tr><th scope=row>runtime</th><td>4.145405e+18</td></tr>\n",
       "\t<tr><th scope=row>collection</th><td>2.890027e+18</td></tr>\n",
       "\t<tr><th scope=row>num_prod_comp</th><td>1.314185e+18</td></tr>\n",
       "\t<tr><th scope=row>budget</th><td>3.132536e+19</td></tr>\n",
       "</tbody>\n",
       "</table>\n"
      ],
      "text/latex": [
       "\\begin{tabular}{r|l}\n",
       "  & IncNodePurity\\\\\n",
       "\\hline\n",
       "\tactor\\_1\\_gender & 3.932558e+17\\\\\n",
       "\tpopularity & 2.018656e+19\\\\\n",
       "\truntime & 4.145405e+18\\\\\n",
       "\tcollection & 2.890027e+18\\\\\n",
       "\tnum\\_prod\\_comp & 1.314185e+18\\\\\n",
       "\tbudget & 3.132536e+19\\\\\n",
       "\\end{tabular}\n"
      ],
      "text/markdown": [
       "\n",
       "| <!--/--> | IncNodePurity | \n",
       "|---|---|---|---|---|---|\n",
       "| actor_1_gender | 3.932558e+17 | \n",
       "| popularity | 2.018656e+19 | \n",
       "| runtime | 4.145405e+18 | \n",
       "| collection | 2.890027e+18 | \n",
       "| num_prod_comp | 1.314185e+18 | \n",
       "| budget | 3.132536e+19 | \n",
       "\n",
       "\n"
      ],
      "text/plain": [
       "               IncNodePurity\n",
       "actor_1_gender 3.932558e+17 \n",
       "popularity     2.018656e+19 \n",
       "runtime        4.145405e+18 \n",
       "collection     2.890027e+18 \n",
       "num_prod_comp  1.314185e+18 \n",
       "budget         3.132536e+19 "
      ]
     },
     "metadata": {},
     "output_type": "display_data"
    }
   ],
   "source": [
    "rfor.f <- randomForest(revenue~ actor_1_gender+ popularity+runtime+collection+num_prod_comp+ budget, data= train, nodesize = 30)\n",
    "round(rfor.f$importance,2)"
   ]
  },
  {
   "cell_type": "markdown",
   "metadata": {},
   "source": [
    "Clearly, budget and popularity are the most important predictors followed by whether the movie belowngs to a collection or not"
   ]
  },
  {
   "cell_type": "markdown",
   "metadata": {},
   "source": [
    "Now since budget is the most important factor here, it is worth checking if importance of different predictors changes if I predict the revenue with different budget buckets. **Performing cluster wise class regression**"
   ]
  },
  {
   "cell_type": "code",
   "execution_count": 36,
   "metadata": {},
   "outputs": [],
   "source": [
    "#clustreg function\n",
    "clustreg=function(dat,k,tries,sed,niter){\n",
    "  \n",
    "  set.seed(sed)\n",
    "  dat=as.data.frame(dat)\n",
    "  rsq=rep(NA,niter)\n",
    "  res=list()\n",
    "  rsq.best=0\n",
    "  for(l in 1:tries) {\n",
    "    \n",
    "    c = sample(1:k,nrow(dat),replace=TRUE)\n",
    "    yhat=rep(NA,nrow(dat))\n",
    "    for(i in 1:niter) {\t\t\n",
    "      resid=pred=matrix(0,nrow(dat),k)\n",
    "      for(j in 1:k){\t\n",
    "        pred[,j]=predict(glm(dat[c==j,],family=\"gaussian\"),newdata=dat)\t\t\n",
    "        resid[,j] = (pred[,j]-dat[,1])^2\n",
    "      }\n",
    "      \n",
    "      c = apply(resid,1,which.min)\n",
    "      for(m in 1:nrow(dat)) {yhat[m]=pred[m,c[m]]}\n",
    "      rsq[i] = cor(dat[,1],yhat)^2\t\n",
    "      #print(rsq[i])\n",
    "    }\n",
    "    \n",
    "    if(rsq[niter] > rsq.best) {\t\n",
    "      rsq.best=rsq[niter]\n",
    "      l.best=l\n",
    "      c.best=c\n",
    "      yhat.best=yhat\n",
    "    }\n",
    "  }\n",
    "  \n",
    "  for(i in k:1) res[[i]]=summary(lm(dat[c.best==i,]))\n",
    "  \n",
    "  return(list(data=dat,nclust=k,tries=tries,seed=sed,rsq.best=rsq.best,number.loops=niter, Best.try=l.best,cluster=c.best,results=res))\n",
    "}\n",
    "\n",
    "clustreg.predict=function(results,newdat){\n",
    "  \n",
    "  yhat=rep(NA,nrow(newdat))\n",
    "  resid=pred=matrix(0,nrow(newdat),length(table(results$cluster)))\n",
    "  \n",
    "  for(j in 1:length(table(results$cluster))){\t\t\t\n",
    "    pred[,j]=predict(glm(results$data[results$cluster==j,],family=\"gaussian\"),newdata=newdat)\t\t\n",
    "    resid[,j] = (pred[,j]-newdat[,1])^2\n",
    "  }\n",
    "  \n",
    "  c = apply(resid,1,which.min)\n",
    "  for(m in 1:nrow(newdat)) {yhat[m]=pred[m,c[m]]}\n",
    "  rsq = cor(newdat[,1],yhat)^2\t\n",
    "  \n",
    "  return(list(results=results,newdata=newdat,cluster=c,yhat=yhat,rsq=rsq))\n",
    "  \n",
    "}"
   ]
  },
  {
   "cell_type": "markdown",
   "metadata": {},
   "source": [
    "Trying multiple clusters (2 to 5) and assessing fits using approximated R-sq and RMSE"
   ]
  },
  {
   "cell_type": "code",
   "execution_count": 37,
   "metadata": {},
   "outputs": [
    {
     "name": "stdout",
     "output_type": "stream",
     "text": [
      "[1] 2\n",
      "\n",
      "   1    2 \n",
      " 651 4396 \n",
      "           Train        Test\n",
      "RMSE 49885380.47 45591029.11\n",
      "R-sq        0.85        0.85\n",
      "[1] 3\n",
      "\n",
      "   1    2    3 \n",
      " 260 3632 1155 \n",
      "           Train        Test\n",
      "RMSE 34795869.12 33682217.65\n",
      "R-sq        0.93        0.92\n",
      "[1] 4\n",
      "\n",
      "   1    2    3    4 \n",
      "2206   81  357 2403 \n",
      "           Train        Test\n",
      "RMSE 25743321.39 27283464.23\n",
      "R-sq        0.96        0.95\n",
      "[1] 5\n",
      "\n",
      "   1    2    3    4    5 \n",
      "1845 2332  215   72  583 \n",
      "           Train        Test\n",
      "RMSE 20932497.58 22176345.79\n",
      "R-sq        0.97        0.96\n"
     ]
    }
   ],
   "source": [
    "for (i in 2:5){\n",
    "  \n",
    "  rev_clust<- clustreg(train[,c(5,1,2,3,6,9,10,11)],i,100,881,50)\n",
    "  ypredTr<- clustreg.predict(rev_clust, train[,c(5,1,2,3,6,9,10,11)])\n",
    "  ypredTest <- clustreg.predict(rev_clust,test[,c(5,1,2,3,6,9,10,11)])\n",
    "  yhat_tr<- ypredTr$yhat\n",
    "  yhat_test<- ypredTest$yhat\n",
    "  \n",
    "  rmseTest <- rmse(yhat_test, test$revenue)\n",
    "  rmseTrain <- rmse(yhat_tr, train$revenue)\n",
    "  Rsq_test <- 1-(rmseTest)^2/var(test$revenue)\n",
    "  R_sqTr <- 1-(rmseTrain)^2/var(train$revenue)\n",
    "  \n",
    "  a<- round(rbind(cbind(rmseTrain, rmseTest), cbind(R_sqTr, Rsq_test)),2)\n",
    "  rownames(a)<- c(\"RMSE\", \"R-sq\")\n",
    "  colnames(a)<- c(\"Train\", \"Test\")\n",
    "  print(i)\n",
    "  x <- table(rev_clust$cluster)\n",
    "  print(x)\n",
    "  print(a)\n",
    "  \n",
    "}"
   ]
  },
  {
   "cell_type": "markdown",
   "metadata": {},
   "source": [
    "Cluster wise regression is fitting really well. Based on the size of the clusters, I will choose the 3 cluster solution as clusters get thin beyond that."
   ]
  },
  {
   "cell_type": "code",
   "execution_count": 38,
   "metadata": {},
   "outputs": [
    {
     "data": {
      "text/plain": [
       "[[1]]\n",
       "\n",
       "Call:\n",
       "lm(formula = dat[c.best == i, ])\n",
       "\n",
       "Residuals:\n",
       "       Min         1Q     Median         3Q        Max \n",
       "-197257730  -50625682   -7809593   15071031  454426707 \n",
       "\n",
       "Coefficients:\n",
       "                    Estimate Std. Error t value Pr(>|t|)    \n",
       "(Intercept)        123142469   30589390   4.026 7.52e-05 ***\n",
       "actor_1_genderMale  20699561   14117812   1.466 0.143840    \n",
       "budget             110793603    5479514  20.220  < 2e-16 ***\n",
       "popularity          14285318    1016686  14.051  < 2e-16 ***\n",
       "runtime              1040359     268189   3.879 0.000134 ***\n",
       "collectionYes       53695402   15202223   3.532 0.000490 ***\n",
       "num_prod_comp      -56257984    8785951  -6.403 7.39e-10 ***\n",
       "num_prod_ctry      -15592542   10275957  -1.517 0.130424    \n",
       "---\n",
       "Signif. codes:  0 '***' 0.001 '**' 0.01 '*' 0.05 '.' 0.1 ' ' 1\n",
       "\n",
       "Residual standard error: 103100000 on 252 degrees of freedom\n",
       "Multiple R-squared:  0.8889,\tAdjusted R-squared:  0.8858 \n",
       "F-statistic: 288.1 on 7 and 252 DF,  p-value: < 2.2e-16\n",
       "\n",
       "\n",
       "[[2]]\n",
       "\n",
       "Call:\n",
       "lm(formula = dat[c.best == i, ])\n",
       "\n",
       "Residuals:\n",
       "       Min         1Q     Median         3Q        Max \n",
       "-201586326   -8477295    1319473    8058709  229654201 \n",
       "\n",
       "Coefficients:\n",
       "                   Estimate Std. Error t value Pr(>|t|)    \n",
       "(Intercept)        15939843    1705124   9.348  < 2e-16 ***\n",
       "actor_1_genderMale  2544329     900297   2.826  0.00474 ** \n",
       "budget             35008514     488427  71.676  < 2e-16 ***\n",
       "popularity          1518502      37253  40.762  < 2e-16 ***\n",
       "runtime                3581      12579   0.285  0.77591    \n",
       "collectionYes      10163198    1010681  10.056  < 2e-16 ***\n",
       "num_prod_comp       -810149     372111  -2.177  0.02953 *  \n",
       "num_prod_ctry      -3542118     602598  -5.878 4.53e-09 ***\n",
       "---\n",
       "Signif. codes:  0 '***' 0.001 '**' 0.01 '*' 0.05 '.' 0.1 ' ' 1\n",
       "\n",
       "Residual standard error: 21640000 on 3624 degrees of freedom\n",
       "Multiple R-squared:  0.7411,\tAdjusted R-squared:  0.7406 \n",
       "F-statistic:  1482 on 7 and 3624 DF,  p-value: < 2.2e-16\n",
       "\n",
       "\n",
       "[[3]]\n",
       "\n",
       "Call:\n",
       "lm(formula = dat[c.best == i, ])\n",
       "\n",
       "Residuals:\n",
       "       Min         1Q     Median         3Q        Max \n",
       "-169154802  -17951892   -3057152   10544492  218863034 \n",
       "\n",
       "Coefficients:\n",
       "                    Estimate Std. Error t value Pr(>|t|)    \n",
       "(Intercept)          7048375    7133886   0.988    0.323    \n",
       "actor_1_genderMale  15029774    2524307   5.954 3.47e-09 ***\n",
       "budget              75209664    1097388  68.535  < 2e-16 ***\n",
       "popularity           3564454      97453  36.576  < 2e-16 ***\n",
       "runtime               627549      64720   9.696  < 2e-16 ***\n",
       "collectionYes       31135881    3089750  10.077  < 2e-16 ***\n",
       "num_prod_comp       -6002959    1200569  -5.000 6.62e-07 ***\n",
       "num_prod_ctry      -10279199    1765439  -5.822 7.52e-09 ***\n",
       "---\n",
       "Signif. codes:  0 '***' 0.001 '**' 0.01 '*' 0.05 '.' 0.1 ' ' 1\n",
       "\n",
       "Residual standard error: 38890000 on 1147 degrees of freedom\n",
       "Multiple R-squared:  0.9228,\tAdjusted R-squared:  0.9223 \n",
       "F-statistic:  1959 on 7 and 1147 DF,  p-value: < 2.2e-16\n",
       "\n"
      ]
     },
     "metadata": {},
     "output_type": "display_data"
    }
   ],
   "source": [
    "rev_clust3<- clustreg(train[,c(5,1,2,3,6,9,10,11)],3,100,881,50)\n",
    "rev_clust3$result"
   ]
  },
  {
   "cell_type": "markdown",
   "metadata": {},
   "source": [
    "Plotting clusters on revenue vs. budget class:"
   ]
  },
  {
   "cell_type": "code",
   "execution_count": 39,
   "metadata": {},
   "outputs": [
    {
     "data": {
      "text/html": [
       "<table>\n",
       "<thead><tr><th scope=col>Group.1</th><th scope=col>budget</th><th scope=col>revenue</th><th scope=col>popularity</th><th scope=col>runtime</th><th scope=col>vote_average</th><th scope=col>vote_count</th><th scope=col>num_prod_comp</th><th scope=col>size.Var1</th><th scope=col>size.Freq</th></tr></thead>\n",
       "<tbody>\n",
       "\t<tr><td>1         </td><td> 0.6630203</td><td>328317292 </td><td>10.426196 </td><td>103.7346  </td><td>6.442308  </td><td>1854.9731 </td><td>2.419231  </td><td>1         </td><td> 260      </td></tr>\n",
       "\t<tr><td>2         </td><td>-0.1343536</td><td> 19984564 </td><td> 6.807126 </td><td>105.2712  </td><td>5.843034  </td><td> 262.4199 </td><td>1.675110  </td><td>2         </td><td>3632      </td></tr>\n",
       "\t<tr><td>3         </td><td> 0.2987147</td><td>117489710 </td><td> 9.178632 </td><td>104.2078  </td><td>6.074719  </td><td> 916.9299 </td><td>2.051082  </td><td>3         </td><td>1155      </td></tr>\n",
       "</tbody>\n",
       "</table>\n"
      ],
      "text/latex": [
       "\\begin{tabular}{r|llllllllll}\n",
       " Group.1 & budget & revenue & popularity & runtime & vote\\_average & vote\\_count & num\\_prod\\_comp & size.Var1 & size.Freq\\\\\n",
       "\\hline\n",
       "\t 1          &  0.6630203 & 328317292  & 10.426196  & 103.7346   & 6.442308   & 1854.9731  & 2.419231   & 1          &  260      \\\\\n",
       "\t 2          & -0.1343536 &  19984564  &  6.807126  & 105.2712   & 5.843034   &  262.4199  & 1.675110   & 2          & 3632      \\\\\n",
       "\t 3          &  0.2987147 & 117489710  &  9.178632  & 104.2078   & 6.074719   &  916.9299  & 2.051082   & 3          & 1155      \\\\\n",
       "\\end{tabular}\n"
      ],
      "text/markdown": [
       "\n",
       "Group.1 | budget | revenue | popularity | runtime | vote_average | vote_count | num_prod_comp | size.Var1 | size.Freq | \n",
       "|---|---|---|\n",
       "| 1          |  0.6630203 | 328317292  | 10.426196  | 103.7346   | 6.442308   | 1854.9731  | 2.419231   | 1          |  260       | \n",
       "| 2          | -0.1343536 |  19984564  |  6.807126  | 105.2712   | 5.843034   |  262.4199  | 1.675110   | 2          | 3632       | \n",
       "| 3          |  0.2987147 | 117489710  |  9.178632  | 104.2078   | 6.074719   |  916.9299  | 2.051082   | 3          | 1155       | \n",
       "\n",
       "\n"
      ],
      "text/plain": [
       "  Group.1 budget     revenue   popularity runtime  vote_average vote_count\n",
       "1 1        0.6630203 328317292 10.426196  103.7346 6.442308     1854.9731 \n",
       "2 2       -0.1343536  19984564  6.807126  105.2712 5.843034      262.4199 \n",
       "3 3        0.2987147 117489710  9.178632  104.2078 6.074719      916.9299 \n",
       "  num_prod_comp size.Var1 size.Freq\n",
       "1 2.419231      1          260     \n",
       "2 1.675110      2         3632     \n",
       "3 2.051082      3         1155     "
      ]
     },
     "metadata": {},
     "output_type": "display_data"
    },
    {
     "data": {},
     "metadata": {},
     "output_type": "display_data"
    },
    {
     "data": {
      "image/png": "[encoded data removed]",
      "text/plain": [
       "plot without title"
      ]
     },
     "metadata": {},
     "output_type": "display_data"
    }
   ],
   "source": [
    "train_clus <- as.data.frame(cbind(train, cluster = rev_clust3$cluster))\n",
    "train_clus$cluster <- as.factor(train_clus$cluster)\n",
    "cbind(aggregate(train_clus[,c(2,5,3,6,7,8,10)], by = list(train_clus$cluster), mean), size = table(train_clus$cluster))\n",
    "ggplot(train_clus,aes(budget,revenue,colour = cluster)) + geom_point()"
   ]
  },
  {
   "cell_type": "markdown",
   "metadata": {},
   "source": [
    "Now that we know how the regression equations within different clusters of the movies, it is important for us to be able to classify the new movies into clusters and then fit the corresponding equations to then so as to predict their revenue.\n",
    "\n",
    "***Fitting a classification tree on train data to classify new datasets into clusters for revenue predictions through clusterwise regression results***"
   ]
  },
  {
   "cell_type": "code",
   "execution_count": 42,
   "metadata": {
    "scrolled": true
   },
   "outputs": [
    {
     "data": {
      "text/plain": [
       "      pred\n",
       "actual    1    2    3\n",
       "     1 0.15 0.69 0.16\n",
       "     2 0.00 0.99 0.01\n",
       "     3 0.00 0.60 0.40"
      ]
     },
     "metadata": {},
     "output_type": "display_data"
    },
    {
     "data": {
      "text/plain": [
       "      pred\n",
       "actual    1    2    3\n",
       "     1 0.00 0.69 0.31\n",
       "     2 0.00 0.96 0.04\n",
       "     3 0.01 0.76 0.23"
      ]
     },
     "metadata": {},
     "output_type": "display_data"
    }
   ],
   "source": [
    "s <- sample(1:nrow(train), round(0.7*nrow(train),0))\n",
    "train1 <- train_clus[s,]\n",
    "train2 <- train_clus[-s,]\n",
    "\n",
    "  classify <- randomForest(cluster~ actor_1_gender+ popularity+runtime+collection+num_prod_comp+ budget, data= train1, nodesize = 10)\n",
    "  train1clus <- predict(classify, train1, type = \"class\")\n",
    "  train2clus <- predict(classify, train2, type = \"class\")\n",
    "  round(prop.table(table(actual = train1$cluster, pred = train1clus),1),2)\n",
    "  round(prop.table(table(actual = train2$cluster, pred = train2clus),1),2)\n",
    "  "
   ]
  },
  {
   "cell_type": "code",
   "execution_count": 43,
   "metadata": {},
   "outputs": [
    {
     "data": {
      "text/html": [
       "0.81"
      ],
      "text/latex": [
       "0.81"
      ],
      "text/markdown": [
       "0.81"
      ],
      "text/plain": [
       "[1] 0.81"
      ]
     },
     "metadata": {},
     "output_type": "display_data"
    },
    {
     "data": {
      "text/html": [
       "0.74"
      ],
      "text/latex": [
       "0.74"
      ],
      "text/markdown": [
       "0.74"
      ],
      "text/plain": [
       "[1] 0.74"
      ]
     },
     "metadata": {},
     "output_type": "display_data"
    }
   ],
   "source": [
    " accTrain1 <- sum(train1clus==train1$cluster)/nrow(train1); round(accTrain1,2)\n",
    " accTrain2 <- sum(train2clus==train2$cluster)/nrow(train2); round(accTrain2,2)\n"
   ]
  },
  {
   "cell_type": "markdown",
   "metadata": {},
   "source": [
    "The accuracy of classification model for deciding clusters is low for small sized clusters. I would weigh in this factor to decide between random forest and cluster wise regression result. The accuracy of predicting revenue once the clusters are identified is very high but when combined with process of identifying the right clusters, expected accuracy drop close to that of random forests."
   ]
  }
 ],
 "metadata": {
  "kernelspec": {
   "display_name": "R",
   "language": "R",
   "name": "ir"
  },
  "language_info": {
   "codemirror_mode": "r",
   "file_extension": ".r",
   "mimetype": "text/x-r-source",
   "name": "R",
   "pygments_lexer": "r",
   "version": "3.4.3"
  }
 },
 "nbformat": 4,
 "nbformat_minor": 2
}
